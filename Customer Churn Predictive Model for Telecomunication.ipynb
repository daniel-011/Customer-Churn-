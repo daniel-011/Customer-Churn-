{
 "cells": [
  {
   "cell_type": "code",
   "execution_count": null,
   "id": "d5d221a1",
   "metadata": {},
   "outputs": [],
   "source": [
    "# Import necessary libraries\n",
    "import pandas as pd\n",
    "import numpy as np\n",
    "from sklearn.model_selection import train_test_split\n",
    "from sklearn.preprocessing import StandardScaler\n",
    "from sklearn.ensemble import RandomForestClassifier\n",
    "from sklearn.metrics import accuracy_score, classification_report, confusion_matrix\n",
    "from sklearn.tree import DecisionTreeClassifier\n",
    "from sklearn.metrics import accuracy_score, confusion_matrix\n",
    "from sklearn.preprocessing import LabelEncoder"
   ]
  },
  {
   "cell_type": "code",
   "execution_count": null,
   "id": "15546720",
   "metadata": {},
   "outputs": [],
   "source": [
    "# Load the data\n",
    "data = pd.read_csv('telecom_churn.csv')"
   ]
  },
  {
   "cell_type": "code",
   "execution_count": null,
   "id": "eb973a65",
   "metadata": {},
   "outputs": [],
   "source": [
    "col_names = data.columns.tolist()\n",
    "print(col_names)"
   ]
  },
  {
   "cell_type": "code",
   "execution_count": 14,
   "id": "44883078",
   "metadata": {},
   "outputs": [
    {
     "name": "stdout",
     "output_type": "stream",
     "text": [
      "     customerID  gender  SeniorCitizen Partner Dependents  tenure  \\\n",
      "0    7590-VHVEG  Female              0     Yes         No     1.0   \n",
      "1    5575-GNVDE    Male              0      No         No    34.0   \n",
      "2    3668-QPYBK    Male              0      No         No     2.0   \n",
      "3    7795-CFOCW    Male              0      No         No    45.0   \n",
      "4    9237-HQITU  Female              0      No         No     2.0   \n",
      "..          ...     ...            ...     ...        ...     ...   \n",
      "208  5657-NUSVN    Male              0     Yes        Yes    67.0   \n",
      "209  2379-BFRID    Male              0     Yes        Yes    72.0   \n",
      "210  2306-BTINC  Female              0     Yes        Yes    72.0   \n",
      "211  3135-DEHZL    Male              0     Yes         No     5.0   \n",
      "212  1055-UEVJZ  Female              0     Yes        Yes     NaN   \n",
      "\n",
      "    PhoneService     MultipleLines InternetService OnlineSecurity  ...  \\\n",
      "0             No  No phone service             DSL             No  ...   \n",
      "1            Yes                No             DSL            Yes  ...   \n",
      "2            Yes                No             DSL            Yes  ...   \n",
      "3             No  No phone service             DSL            Yes  ...   \n",
      "4            Yes                No     Fiber optic             No  ...   \n",
      "..           ...               ...             ...            ...  ...   \n",
      "208          Yes               Yes     Fiber optic            Yes  ...   \n",
      "209          Yes               Yes     Fiber optic            Yes  ...   \n",
      "210          Yes               Yes     Fiber optic            Yes  ...   \n",
      "211          Yes               Yes     Fiber optic            Yes  ...   \n",
      "212          NaN               NaN             NaN            NaN  ...   \n",
      "\n",
      "    Unnamed: 30 Unnamed: 31 Unnamed: 32 Unnamed: 33 Unnamed: 34 Unnamed: 35  \\\n",
      "0           NaN         NaN         NaN         NaN         NaN         NaN   \n",
      "1           NaN         NaN         NaN         NaN         NaN         NaN   \n",
      "2           NaN         NaN         NaN         NaN         NaN         NaN   \n",
      "3           NaN         NaN         NaN         NaN         NaN         NaN   \n",
      "4           NaN         NaN         NaN         NaN         NaN         NaN   \n",
      "..          ...         ...         ...         ...         ...         ...   \n",
      "208         NaN         NaN         NaN         NaN         NaN         NaN   \n",
      "209         NaN         NaN         NaN         NaN         NaN         NaN   \n",
      "210         NaN         NaN         NaN         NaN         NaN         NaN   \n",
      "211         NaN         NaN         NaN         NaN         NaN         NaN   \n",
      "212         NaN         NaN         NaN         NaN         NaN         NaN   \n",
      "\n",
      "    Unnamed: 36 Unnamed: 37  Unnamed: 38  Unnamed: 39  \n",
      "0           NaN         NaN          NaN          NaN  \n",
      "1           NaN         NaN          NaN          NaN  \n",
      "2           NaN         NaN          NaN          NaN  \n",
      "3           NaN         NaN          NaN          NaN  \n",
      "4           NaN         NaN          NaN          NaN  \n",
      "..          ...         ...          ...          ...  \n",
      "208         NaN         NaN          NaN          NaN  \n",
      "209         NaN         NaN          NaN          NaN  \n",
      "210         NaN         NaN          NaN          NaN  \n",
      "211         NaN         NaN          NaN          NaN  \n",
      "212         NaN         NaN          NaN          NaN  \n",
      "\n",
      "[213 rows x 40 columns]\n",
      "     customerID  gender  SeniorCitizen Partner Dependents  tenure  \\\n",
      "0    7590-VHVEG  Female              0     Yes         No     1.0   \n",
      "1    5575-GNVDE    Male              0      No         No    34.0   \n",
      "2    3668-QPYBK    Male              0      No         No     2.0   \n",
      "3    7795-CFOCW    Male              0      No         No    45.0   \n",
      "4    9237-HQITU  Female              0      No         No     2.0   \n",
      "..          ...     ...            ...     ...        ...     ...   \n",
      "208  5657-NUSVN    Male              0     Yes        Yes    67.0   \n",
      "209  2379-BFRID    Male              0     Yes        Yes    72.0   \n",
      "210  2306-BTINC  Female              0     Yes        Yes    72.0   \n",
      "211  3135-DEHZL    Male              0     Yes         No     5.0   \n",
      "212  1055-UEVJZ  Female              0     Yes        Yes     NaN   \n",
      "\n",
      "    PhoneService     MultipleLines InternetService OnlineSecurity  ...  \\\n",
      "0             No  No phone service             DSL             No  ...   \n",
      "1            Yes                No             DSL            Yes  ...   \n",
      "2            Yes                No             DSL            Yes  ...   \n",
      "3             No  No phone service             DSL            Yes  ...   \n",
      "4            Yes                No     Fiber optic             No  ...   \n",
      "..           ...               ...             ...            ...  ...   \n",
      "208          Yes               Yes     Fiber optic            Yes  ...   \n",
      "209          Yes               Yes     Fiber optic            Yes  ...   \n",
      "210          Yes               Yes     Fiber optic            Yes  ...   \n",
      "211          Yes               Yes     Fiber optic            Yes  ...   \n",
      "212          NaN               NaN             NaN            NaN  ...   \n",
      "\n",
      "    Unnamed: 30 Unnamed: 31 Unnamed: 32 Unnamed: 33 Unnamed: 34 Unnamed: 35  \\\n",
      "0           NaN         NaN         NaN         NaN         NaN         NaN   \n",
      "1           NaN         NaN         NaN         NaN         NaN         NaN   \n",
      "2           NaN         NaN         NaN         NaN         NaN         NaN   \n",
      "3           NaN         NaN         NaN         NaN         NaN         NaN   \n",
      "4           NaN         NaN         NaN         NaN         NaN         NaN   \n",
      "..          ...         ...         ...         ...         ...         ...   \n",
      "208         NaN         NaN         NaN         NaN         NaN         NaN   \n",
      "209         NaN         NaN         NaN         NaN         NaN         NaN   \n",
      "210         NaN         NaN         NaN         NaN         NaN         NaN   \n",
      "211         NaN         NaN         NaN         NaN         NaN         NaN   \n",
      "212         NaN         NaN         NaN         NaN         NaN         NaN   \n",
      "\n",
      "    Unnamed: 36 Unnamed: 37  Unnamed: 38  Unnamed: 39  \n",
      "0           NaN         NaN          NaN          NaN  \n",
      "1           NaN         NaN          NaN          NaN  \n",
      "2           NaN         NaN          NaN          NaN  \n",
      "3           NaN         NaN          NaN          NaN  \n",
      "4           NaN         NaN          NaN          NaN  \n",
      "..          ...         ...          ...          ...  \n",
      "208         NaN         NaN          NaN          NaN  \n",
      "209         NaN         NaN          NaN          NaN  \n",
      "210         NaN         NaN          NaN          NaN  \n",
      "211         NaN         NaN          NaN          NaN  \n",
      "212         NaN         NaN          NaN          NaN  \n",
      "\n",
      "[213 rows x 40 columns]\n"
     ]
    }
   ],
   "source": [
    "print(data)"
   ]
  },
  {
   "cell_type": "code",
   "execution_count": null,
   "id": "43c5be12",
   "metadata": {},
   "outputs": [],
   "source": [
    "cat_cols = ['gender', 'SeniorCitizen', 'Partner', 'Dependents', 'tenure', 'PhoneService', 'MultipleLines', 'InternetService', 'OnlineSecurity', 'OnlineBackup', 'DeviceProtection', 'TechSupport', 'StreamingTV', 'StreamingMovies', 'Contract', 'PaperlessBilling', 'PaymentMethod', 'MonthlyCharges', 'TotalCharges', 'Churn', 'Unnamed: 21', 'Unnamed: 22', 'Unnamed: 23', 'Unnamed: 24', 'Unnamed: 25', 'Unnamed: 26', 'Unnamed: 27', 'Unnamed: 28', 'Unnamed: 29', 'Unnamed: 30', 'Unnamed: 31', 'Unnamed: 32', 'Unnamed: 33', 'Unnamed: 34', 'Unnamed: 35', 'Unnamed: 36', 'Unnamed: 37', 'Unnamed: 38', 'Unnamed: 39']\n",
    "['gender', 'SeniorCitizen', 'Partner', 'Dependents', 'tenure', 'PhoneService', 'MultipleLines', 'InternetService', 'OnlineSecurity', 'OnlineBackup', 'DeviceProtection', 'TechSupport', 'StreamingTV', 'StreamingMovies', 'Contract', 'PaperlessBilling', 'PaymentMethod', 'MonthlyCharges', 'TotalCharges', 'Churn', 'Unnamed: 21', 'Unnamed: 22', 'Unnamed: 23', 'Unnamed: 24', 'Unnamed: 25', 'Unnamed: 26', 'Unnamed: 27', 'Unnamed: 28', 'Unnamed: 29', 'Unnamed: 30', 'Unnamed: 31', 'Unnamed: 32', 'Unnamed: 33', 'Unnamed: 34', 'Unnamed: 35', 'Unnamed: 36', 'Unnamed: 37', 'Unnamed: 38', 'Unnamed: 39']\n",
    "\n",
    "# Loop through each categorical column and encode its values\n",
    "for col in cat_cols:\n",
    "    le = LabelEncoder()\n",
    "    data[col] = le.fit_transform(data[col])"
   ]
  },
  {
   "cell_type": "code",
   "execution_count": null,
   "id": "12503783",
   "metadata": {},
   "outputs": [],
   "source": [
    "# Data preprocessing\n",
    "data = data.drop(['customerID'], axis=1) # Remove customerID column\n",
    "data['TotalCharges'] = data['TotalCharges'].replace(' ', np.nan) # Replace missing values with NaN\n",
    "data = data.dropna() # Remove rows with NaN values\n",
    "data['TotalCharges'] = pd.to_numeric(data['TotalCharges']) # Convert TotalCharges column to numeric\n"
   ]
  },
  {
   "cell_type": "code",
   "execution_count": null,
   "id": "aebfd69f",
   "metadata": {},
   "outputs": [],
   "source": [
    "# Create feature and target variables\n",
    "X = data.iloc[:, :-1].values # Features\n",
    "y = data.iloc[:, -1].values # Target variable"
   ]
  },
  {
   "cell_type": "code",
   "execution_count": null,
   "id": "307d0ea8",
   "metadata": {},
   "outputs": [],
   "source": [
    "# Split the data into training and testing sets\n",
    "X_train, X_test, y_train, y_test = train_test_split(X, y, test_size=0.2, random_state=0)\n"
   ]
  },
  {
   "cell_type": "code",
   "execution_count": null,
   "id": "21e62544",
   "metadata": {},
   "outputs": [],
   "source": [
    "# Scale the data\n",
    "sc = StandardScaler()\n",
    "X_train = sc.fit_transform(X_train)\n",
    "X_test = sc.transform(X_test)"
   ]
  },
  {
   "cell_type": "code",
   "execution_count": null,
   "id": "2fc599c8",
   "metadata": {},
   "outputs": [],
   "source": [
    "# Build the random forest model\n",
    "classifier = RandomForestClassifier(n_estimators=100, random_state=0)\n",
    "classifier.fit(X_train, y_train)\n"
   ]
  },
  {
   "cell_type": "code",
   "execution_count": null,
   "id": "b98bf864",
   "metadata": {},
   "outputs": [],
   "source": [
    "# Make predictions on the test set\n",
    "y_pred = classifier.predict(X_test)"
   ]
  },
  {
   "cell_type": "code",
   "execution_count": null,
   "id": "c0e9a779",
   "metadata": {},
   "outputs": [],
   "source": [
    "# Evaluate the model\n",
    "print(\"Accuracy:\", accuracy_score(y_test, y_pred))\n",
    "print(\"Confusion Matrix:\\n\", confusion_matrix(y_test, y_pred))\n",
    "print(\"Classification Report:\\n\", classification_report(y_test, y_pred))"
   ]
  }
 ],
 "metadata": {
  "kernelspec": {
   "display_name": "Python 3",
   "language": "python",
   "name": "python3"
  },
  "language_info": {
   "codemirror_mode": {
    "name": "ipython",
    "version": 3
   },
   "file_extension": ".py",
   "mimetype": "text/x-python",
   "name": "python",
   "nbconvert_exporter": "python",
   "pygments_lexer": "ipython3",
   "version": "3.8.8"
  }
 },
 "nbformat": 4,
 "nbformat_minor": 5
}
